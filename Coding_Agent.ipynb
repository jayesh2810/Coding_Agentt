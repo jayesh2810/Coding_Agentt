{
 "cells": [
  {
   "cell_type": "code",
   "execution_count": 2,
   "metadata": {},
   "outputs": [],
   "source": [
    "# Warning control\n",
    "import warnings\n",
    "warnings.filterwarnings('ignore')\n",
    "from crewai import Agent, Task, Crew"
   ]
  },
  {
   "cell_type": "code",
   "execution_count": 3,
   "metadata": {},
   "outputs": [],
   "source": [
    "from dotenv import load_dotenv\n",
    "import os\n",
    "\n",
    "# Load environment variables from .env file\n",
    "load_dotenv()\n",
    "\n",
    "openai_api_key = os.getenv('OPENAI_API_KEY')\n",
    "os.environ[\"OPENAI_API_KEY\"] = openai_api_key\n",
    "os.environ[\"OPENAI_MODEL_NAME\"] = 'gpt-4o-mini'"
   ]
  },
  {
   "cell_type": "code",
   "execution_count": 5,
   "metadata": {},
   "outputs": [],
   "source": [
    "from langchain.tools import Tool\n",
    "import traceback\n",
    "\n",
    "def exec_python_code(code: str) -> str:\n",
    "    \"\"\"Executes Python code and returns the output or error message.\"\"\"\n",
    "    local_vars = {}\n",
    "    try:\n",
    "        exec(code, {}, local_vars)  # Execute code in an isolated scope\n",
    "        return str(local_vars)  # Return local variables as the result\n",
    "    except Exception as e:\n",
    "        return str(traceback.format_exc())  # Return error traceback if execution fails\n",
    "\n",
    "# Define the tool\n",
    "exec_python_tool = Tool(\n",
    "    name=\"Exec Python\",\n",
    "    func=exec_python_code,\n",
    "    description=\"Executes arbitrary Python code and returns the output.\"\n",
    ")"
   ]
  },
  {
   "cell_type": "code",
   "execution_count": 6,
   "metadata": {},
   "outputs": [],
   "source": [
    "python_developer = Agent(\n",
    "    role=\"You are a python developer\",\n",
    "\tgoal=\"You write very efficient python code \"\n",
    "        \"to solve the problem at hand\",\n",
    "\tbackstory=(\n",
    "\t\t\"You have been a competitive programmer. \"\n",
    "        \" Your aim is to write efficient code. \"\n",
    "        \"Use the avilable code interpretter tool to test your code and get the outputs.\"\n",
    "\t),\n",
    "    tools=[exec_python_tool],\n",
    "\tallow_delegation=False,\n",
    "\tverbose=True\n",
    ")"
   ]
  },
  {
   "cell_type": "code",
   "execution_count": 11,
   "metadata": {},
   "outputs": [],
   "source": [
    "coding_task = Task(\n",
    "    description=\"Write an efficient Python function to solve the following coding task: {coding_task}\",\n",
    "    agent=python_developer,\n",
    "    expected_output=\"A well-optimized and correct Python function and the outputs for the function\",\n",
    ")"
   ]
  },
  {
   "cell_type": "code",
   "execution_count": 13,
   "metadata": {},
   "outputs": [
    {
     "name": "stderr",
     "output_type": "stream",
     "text": [
      "Overriding of current TracerProvider is not allowed\n"
     ]
    }
   ],
   "source": [
    "crew = Crew(\n",
    "  agents=[python_developer],\n",
    "  tasks=[coding_task],\n",
    "  verbose=True,\n",
    "  memory=True\n",
    ")"
   ]
  },
  {
   "cell_type": "code",
   "execution_count": 16,
   "metadata": {},
   "outputs": [
    {
     "name": "stdout",
     "output_type": "stream",
     "text": [
      "\u001b[1m\u001b[95m# Agent:\u001b[00m \u001b[1m\u001b[92mYou are a python developer\u001b[00m\n",
      "\u001b[95m## Task:\u001b[00m \u001b[92mWrite an efficient Python function to solve the following coding task: Print the 102nd fiboinacchi number\u001b[00m\n",
      "927372692193078999176\n",
      "\n",
      "\n",
      "\u001b[1m\u001b[95m# Agent:\u001b[00m \u001b[1m\u001b[92mYou are a python developer\u001b[00m\n",
      "\u001b[95m## Using tool:\u001b[00m \u001b[92mExec Python\u001b[00m\n",
      "\u001b[95m## Tool Input:\u001b[00m \u001b[92m\n",
      "\"{\\\"code\\\": \\\"def fibonacci(n):\\\\n    if n <= 0:\\\\n        return 0\\\\n    elif n == 1:\\\\n        return 1\\\\n    a, b = 0, 1\\\\n    for _ in range(2, n + 1):\\\\n        a, b = b, a + b\\\\n    return b\\\\n\\\\nresult = fibonacci(102)\\\\nprint(result)\\\"}\"\u001b[00m\n",
      "\u001b[95m## Tool Output:\u001b[00m \u001b[92m\n",
      "{'fibonacci': <function fibonacci at 0x29588f910>, 'result': 927372692193078999176}\u001b[00m\n",
      "\n",
      "\n",
      "\u001b[1m\u001b[95m# Agent:\u001b[00m \u001b[1m\u001b[92mYou are a python developer\u001b[00m\n",
      "\u001b[95m## Final Answer:\u001b[00m \u001b[92m\n",
      "Here is an efficient Python function to calculate the 102nd Fibonacci number:\n",
      "\n",
      "```python\n",
      "def fibonacci(n):\n",
      "    if n <= 0:\n",
      "        return 0\n",
      "    elif n == 1:\n",
      "        return 1\n",
      "    a, b = 0, 1\n",
      "    for _ in range(2, n + 1):\n",
      "        a, b = b, a + b\n",
      "    return b\n",
      "\n",
      "result = fibonacci(102)\n",
      "print(result)\n",
      "```\n",
      "\n",
      "When you run this code, it calculates the 102nd Fibonacci number, and the output will be:\n",
      "\n",
      "```\n",
      "927372692193078999176\n",
      "```\n",
      "\n",
      "Thus, the 102nd Fibonacci number is **927372692193078999176**.\n",
      "```\u001b[00m\n",
      "\n",
      "\n"
     ]
    }
   ],
   "source": [
    "inputs = {\n",
    "    \"coding_task\": \"Print the 102nd fiboinacchi number\",\n",
    "}\n",
    "result = crew.kickoff(inputs=inputs)"
   ]
  },
  {
   "cell_type": "code",
   "execution_count": 17,
   "metadata": {},
   "outputs": [
    {
     "data": {
      "text/markdown": [
       "Here is an efficient Python function to calculate the 102nd Fibonacci number:\n",
       "\n",
       "```python\n",
       "def fibonacci(n):\n",
       "    if n <= 0:\n",
       "        return 0\n",
       "    elif n == 1:\n",
       "        return 1\n",
       "    a, b = 0, 1\n",
       "    for _ in range(2, n + 1):\n",
       "        a, b = b, a + b\n",
       "    return b\n",
       "\n",
       "result = fibonacci(102)\n",
       "print(result)\n",
       "```\n",
       "\n",
       "When you run this code, it calculates the 102nd Fibonacci number, and the output will be:\n",
       "\n",
       "```\n",
       "927372692193078999176\n",
       "```\n",
       "\n",
       "Thus, the 102nd Fibonacci number is **927372692193078999176**.\n",
       "```"
      ],
      "text/plain": [
       "<IPython.core.display.Markdown object>"
      ]
     },
     "execution_count": 17,
     "metadata": {},
     "output_type": "execute_result"
    }
   ],
   "source": [
    "from IPython.display import Markdown\n",
    "Markdown(result.raw)"
   ]
  },
  {
   "cell_type": "code",
   "execution_count": null,
   "metadata": {},
   "outputs": [],
   "source": []
  }
 ],
 "metadata": {
  "kernelspec": {
   "display_name": "Python 3 (ipykernel)",
   "language": "python",
   "name": "python3"
  },
  "language_info": {
   "codemirror_mode": {
    "name": "ipython",
    "version": 3
   },
   "file_extension": ".py",
   "mimetype": "text/x-python",
   "name": "python",
   "nbconvert_exporter": "python",
   "pygments_lexer": "ipython3",
   "version": "3.10.16"
  }
 },
 "nbformat": 4,
 "nbformat_minor": 2
}
